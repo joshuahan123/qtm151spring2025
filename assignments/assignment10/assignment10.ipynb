{
 "cells": [
  {
   "attachments": {},
   "cell_type": "markdown",
   "metadata": {},
   "source": [
    "# Assignment 10"
   ]
  },
  {
   "attachments": {},
   "cell_type": "markdown",
   "metadata": {},
   "source": [
    "<font size = \"5\">\n",
    "Print your name below"
   ]
  },
  {
   "cell_type": "code",
   "execution_count": 1,
   "metadata": {},
   "outputs": [
    {
     "name": "stdout",
     "output_type": "stream",
     "text": [
      "Joshua Han\n"
     ]
    }
   ],
   "source": [
    "print(\"Joshua Han\")"
   ]
  },
  {
   "cell_type": "markdown",
   "metadata": {},
   "source": [
    "<font size = \"5\">\n",
    "\n",
    "Import pandas package"
   ]
  },
  {
   "cell_type": "code",
   "execution_count": 2,
   "metadata": {},
   "outputs": [],
   "source": [
    "import pandas as pd"
   ]
  },
  {
   "cell_type": "markdown",
   "metadata": {},
   "source": [
    "<font size = \"5\">\n",
    "\n",
    "Import SQL packages"
   ]
  },
  {
   "cell_type": "code",
   "execution_count": 4,
   "metadata": {},
   "outputs": [],
   "source": [
    "# Write your answer here:\n",
    "\n",
    "\n",
    "from sqlalchemy import create_engine\n",
    "from sqlalchemy.engine import URL\n",
    "from sqlalchemy import text\n"
   ]
  },
  {
   "cell_type": "markdown",
   "metadata": {},
   "source": [
    "<font size = \"5\">\n",
    "\n",
    "Establish a connection to the SQL server and database ```postgres``` <br>\n",
    "from Python as done in  class  using <br>\n",
    "```URL()``` and ```create_engine()```<br>\n",
    "As we are are in the default database, you can leave out the database argument.\n",
    "\n",
    "Note: You may have to change some of the login details <br>\n",
    "depending on your computer"
   ]
  },
  {
   "cell_type": "code",
   "execution_count": 6,
   "metadata": {},
   "outputs": [],
   "source": [
    "# Write your answer here:\n",
    "\n",
    "url_server = URL.create(\n",
    "    \"postgresql\",\n",
    "    host = 'localhost',\n",
    "    username = 'postgres',\n",
    "    port = 5432,\n",
    "    password  = '')\n",
    "connection = create_engine(url_server)\n"
   ]
  },
  {
   "cell_type": "markdown",
   "metadata": {},
   "source": [
    "\n",
    "<font size = \"5\">\n",
    "\n",
    "(a) Upload dataset to SQL\n",
    "\n",
    "<font size = \"3\">\n",
    "\n",
    "- Read the files ```wdi_2018-2023.xlsx``` in the ```data_raw``` folder. <br>\n",
    "This is a file containing data from the world development indicators for <br>\n",
    "2018-2023.\n",
    "- Upload the data to your local SQL server using the <br>\n",
    "\"to_sql\" command. Call the new dataset ```wdi_data```\n",
    " in the server"
   ]
  },
  {
   "cell_type": "code",
   "execution_count": null,
   "metadata": {},
   "outputs": [
    {
     "data": {
      "text/plain": [
       "578"
      ]
     },
     "execution_count": 7,
     "metadata": {},
     "output_type": "execute_result"
    }
   ],
   "source": [
    "# Write your own code\n",
    "wdi_data = pd.read_excel(\"data_raw/wdi_2018-2023.xlsx\")\n",
    "\n",
    "wdi_data.to_sql('wdi_data',\n",
    "                      con = connection,\n",
    "                      if_exists='replace',\n",
    "                      index=False)\n"
   ]
  },
  {
   "cell_type": "markdown",
   "metadata": {},
   "source": [
    "\n",
    "<font size = \"5\">\n",
    "\n",
    "(b) Subset and sort\n",
    "\n",
    "<font size = \"3\">\n",
    "\n",
    "For the following command use ```pd.read_sql()```\n",
    "\n",
    "- Use ```WHERE``` to get a subset of \"wdi_data\" in the SQL server to  <br>\n",
    "which only selects entries related to the USA, <br>\n",
    "using the column \"country_code\"\n",
    "- Chain this with ```ORDER BY year``` to sort in <br>\n",
    "ascending order <br>\n",
    "\n",
    "Hints:\n",
    "- Remember to include a  ```\\```  to be able to define strings over multiple lines\n",
    "- We can include single quotations in the WHERE command <br>\n",
    "without any additional escape characters"
   ]
  },
  {
   "cell_type": "code",
   "execution_count": null,
   "metadata": {},
   "outputs": [
    {
     "data": {
      "application/vnd.microsoft.datawrangler.viewer.v0+json": {
       "columns": [
        {
         "name": "index",
         "rawType": "int64",
         "type": "integer"
        },
        {
         "name": "year",
         "rawType": "int64",
         "type": "integer"
        },
        {
         "name": "country_name",
         "rawType": "object",
         "type": "string"
        },
        {
         "name": "country_code",
         "rawType": "object",
         "type": "string"
        },
        {
         "name": "prop_urban",
         "rawType": "float64",
         "type": "float"
        }
       ],
       "conversionMethod": "pd.DataFrame",
       "ref": "09bd511e-b07e-4762-aecb-0bfcda2e07e1",
       "rows": [
        [
         "0",
         "2018",
         "United States",
         "USA",
         "82.256"
        ],
        [
         "1",
         "2019",
         "United States",
         "USA",
         "82.459"
        ],
        [
         "2",
         "2020",
         "United States",
         "USA",
         "82.664"
        ],
        [
         "3",
         "2021",
         "United States",
         "USA",
         "82.873"
        ],
        [
         "4",
         "2022",
         "United States",
         "USA",
         "83.084"
        ],
        [
         "5",
         "2023",
         "United States",
         "USA",
         "83.298"
        ]
       ],
       "shape": {
        "columns": 4,
        "rows": 6
       }
      },
      "text/html": [
       "<div>\n",
       "<style scoped>\n",
       "    .dataframe tbody tr th:only-of-type {\n",
       "        vertical-align: middle;\n",
       "    }\n",
       "\n",
       "    .dataframe tbody tr th {\n",
       "        vertical-align: top;\n",
       "    }\n",
       "\n",
       "    .dataframe thead th {\n",
       "        text-align: right;\n",
       "    }\n",
       "</style>\n",
       "<table border=\"1\" class=\"dataframe\">\n",
       "  <thead>\n",
       "    <tr style=\"text-align: right;\">\n",
       "      <th></th>\n",
       "      <th>year</th>\n",
       "      <th>country_name</th>\n",
       "      <th>country_code</th>\n",
       "      <th>prop_urban</th>\n",
       "    </tr>\n",
       "  </thead>\n",
       "  <tbody>\n",
       "    <tr>\n",
       "      <th>0</th>\n",
       "      <td>2018</td>\n",
       "      <td>United States</td>\n",
       "      <td>USA</td>\n",
       "      <td>82.256</td>\n",
       "    </tr>\n",
       "    <tr>\n",
       "      <th>1</th>\n",
       "      <td>2019</td>\n",
       "      <td>United States</td>\n",
       "      <td>USA</td>\n",
       "      <td>82.459</td>\n",
       "    </tr>\n",
       "    <tr>\n",
       "      <th>2</th>\n",
       "      <td>2020</td>\n",
       "      <td>United States</td>\n",
       "      <td>USA</td>\n",
       "      <td>82.664</td>\n",
       "    </tr>\n",
       "    <tr>\n",
       "      <th>3</th>\n",
       "      <td>2021</td>\n",
       "      <td>United States</td>\n",
       "      <td>USA</td>\n",
       "      <td>82.873</td>\n",
       "    </tr>\n",
       "    <tr>\n",
       "      <th>4</th>\n",
       "      <td>2022</td>\n",
       "      <td>United States</td>\n",
       "      <td>USA</td>\n",
       "      <td>83.084</td>\n",
       "    </tr>\n",
       "    <tr>\n",
       "      <th>5</th>\n",
       "      <td>2023</td>\n",
       "      <td>United States</td>\n",
       "      <td>USA</td>\n",
       "      <td>83.298</td>\n",
       "    </tr>\n",
       "  </tbody>\n",
       "</table>\n",
       "</div>"
      ],
      "text/plain": [
       "   year   country_name country_code  prop_urban\n",
       "0  2018  United States          USA      82.256\n",
       "1  2019  United States          USA      82.459\n",
       "2  2020  United States          USA      82.664\n",
       "3  2021  United States          USA      82.873\n",
       "4  2022  United States          USA      83.084\n",
       "5  2023  United States          USA      83.298"
      ]
     },
     "execution_count": 8,
     "metadata": {},
     "output_type": "execute_result"
    }
   ],
   "source": [
    "# Write your answer here:\n",
    "usa_subset = pd.read_sql(text(\"SELECT * \\\n",
    "                          FROM wdi_data \\\n",
    "                          WHERE country_code = 'USA' \\\n",
    "                          ORDER BY year;\"), connection)\n",
    "\n",
    "usa_subset\n"
   ]
  },
  {
   "cell_type": "markdown",
   "metadata": {},
   "source": [
    "<font size = \"5\">\n",
    "\n",
    "(c) Groupby + Aggregate + Sort\n",
    "\n",
    "<font size = \"3\">\n",
    "\n",
    "For the following command use ```pd.read_sql()```\n",
    "\n",
    "- From ```wdi_data``` obtain the average of \"prop_urban\" <br>\n",
    "by country_name using ```GROUP BY```\n",
    "- Use ```HAVING ``` to filter countries with an <br>\n",
    "average proportion of urban population greater than 40%\n",
    "- Make sure to separate pieces of your logic over seperate lines  by a ```\\```\n",
    "\n",
    "HINT: Use ```HAVING AVG(prop_urban)``` rather than an alias <br>\n",
    "for the code to work correctly.\n"
   ]
  },
  {
   "cell_type": "code",
   "execution_count": null,
   "metadata": {},
   "outputs": [
    {
     "data": {
      "application/vnd.microsoft.datawrangler.viewer.v0+json": {
       "columns": [
        {
         "name": "index",
         "rawType": "int64",
         "type": "integer"
        },
        {
         "name": "country_name",
         "rawType": "object",
         "type": "string"
        },
        {
         "name": "avg_urban",
         "rawType": "float64",
         "type": "float"
        }
       ],
       "conversionMethod": "pd.DataFrame",
       "ref": "300539c5-c683-4674-a38b-0525d0f90bf6",
       "rows": [
        [
         "0",
         "Bermuda",
         "100.0"
        ],
        [
         "1",
         "Monaco",
         "100.0"
        ],
        [
         "2",
         "Nauru",
         "100.0"
        ],
        [
         "3",
         "Gibraltar",
         "100.0"
        ],
        [
         "4",
         "Kuwait",
         "100.0"
        ],
        [
         "5",
         "Macao SAR, China",
         "100.0"
        ],
        [
         "6",
         "Hong Kong SAR, China",
         "100.0"
        ],
        [
         "7",
         "Sint Maarten (Dutch part)",
         "100.0"
        ],
        [
         "8",
         "Cayman Islands",
         "100.0"
        ],
        [
         "9",
         "Singapore",
         "100.0"
        ],
        [
         "10",
         "Qatar",
         "99.25133333333333"
        ],
        [
         "11",
         "Belgium",
         "98.09666666666668"
        ],
        [
         "12",
         "San Marino",
         "97.54683333333332"
        ],
        [
         "13",
         "Virgin Islands (U.S.)",
         "95.9825"
        ],
        [
         "14",
         "Uruguay",
         "95.55616666666667"
        ],
        [
         "15",
         "Guam",
         "94.97483333333332"
        ],
        [
         "16",
         "Malta",
         "94.77666666666666"
        ],
        [
         "17",
         "Iceland",
         "93.92400000000002"
        ],
        [
         "18",
         "Turks and Caicos Islands",
         "93.69849999999998"
        ],
        [
         "19",
         "Puerto Rico",
         "93.59516666666667"
        ],
        [
         "20",
         "Israel",
         "92.63283333333335"
        ],
        [
         "21",
         "Netherlands",
         "92.37316666666665"
        ],
        [
         "22",
         "Argentina",
         "92.1685"
        ],
        [
         "23",
         "Northern Mariana Islands",
         "91.8455"
        ],
        [
         "24",
         "Japan",
         "91.82683333333334"
        ],
        [
         "25",
         "Luxembourg",
         "91.548"
        ],
        [
         "26",
         "Jordan",
         "91.51216666666666"
        ],
        [
         "27",
         "Gabon",
         "90.23166666666667"
        ],
        [
         "28",
         "Bahrain",
         "89.57016666666668"
        ],
        [
         "29",
         "Curacao",
         "89.06516666666668"
        ],
        [
         "30",
         "Lebanon",
         "89.0105"
        ],
        [
         "31",
         "Venezuela, RB",
         "88.31133333333332"
        ],
        [
         "32",
         "Denmark",
         "88.181"
        ],
        [
         "33",
         "Sweden",
         "88.09733333333334"
        ],
        [
         "34",
         "Andorra",
         "87.90083333333332"
        ],
        [
         "35",
         "Chile",
         "87.77916666666665"
        ],
        [
         "36",
         "Greenland",
         "87.38733333333334"
        ],
        [
         "37",
         "Brazil",
         "87.18766666666666"
        ],
        [
         "38",
         "American Samoa",
         "87.1755"
        ],
        [
         "39",
         "United Arab Emirates",
         "87.16333333333334"
        ],
        [
         "40",
         "New Zealand",
         "86.75166666666667"
        ],
        [
         "41",
         "Oman",
         "86.57533333333333"
        ],
        [
         "42",
         "Australia",
         "86.30733333333335"
        ],
        [
         "43",
         "Finland",
         "85.56583333333333"
        ],
        [
         "44",
         "Saudi Arabia",
         "84.39716666666666"
        ],
        [
         "45",
         "United Kingdom",
         "84.02416666666667"
        ],
        [
         "46",
         "Bahamas, The",
         "83.31400000000001"
        ],
        [
         "47",
         "Norway",
         "83.13666666666667"
        ],
        [
         "48",
         "Dominican Republic",
         "82.82483333333333"
        ],
        [
         "49",
         "United States",
         "82.77233333333334"
        ]
       ],
       "shape": {
        "columns": 2,
        "rows": 206
       }
      },
      "text/html": [
       "<div>\n",
       "<style scoped>\n",
       "    .dataframe tbody tr th:only-of-type {\n",
       "        vertical-align: middle;\n",
       "    }\n",
       "\n",
       "    .dataframe tbody tr th {\n",
       "        vertical-align: top;\n",
       "    }\n",
       "\n",
       "    .dataframe thead th {\n",
       "        text-align: right;\n",
       "    }\n",
       "</style>\n",
       "<table border=\"1\" class=\"dataframe\">\n",
       "  <thead>\n",
       "    <tr style=\"text-align: right;\">\n",
       "      <th></th>\n",
       "      <th>country_name</th>\n",
       "      <th>avg_urban</th>\n",
       "    </tr>\n",
       "  </thead>\n",
       "  <tbody>\n",
       "    <tr>\n",
       "      <th>0</th>\n",
       "      <td>Bermuda</td>\n",
       "      <td>100.000000</td>\n",
       "    </tr>\n",
       "    <tr>\n",
       "      <th>1</th>\n",
       "      <td>Monaco</td>\n",
       "      <td>100.000000</td>\n",
       "    </tr>\n",
       "    <tr>\n",
       "      <th>2</th>\n",
       "      <td>Nauru</td>\n",
       "      <td>100.000000</td>\n",
       "    </tr>\n",
       "    <tr>\n",
       "      <th>3</th>\n",
       "      <td>Gibraltar</td>\n",
       "      <td>100.000000</td>\n",
       "    </tr>\n",
       "    <tr>\n",
       "      <th>4</th>\n",
       "      <td>Kuwait</td>\n",
       "      <td>100.000000</td>\n",
       "    </tr>\n",
       "    <tr>\n",
       "      <th>...</th>\n",
       "      <td>...</td>\n",
       "      <td>...</td>\n",
       "    </tr>\n",
       "    <tr>\n",
       "      <th>201</th>\n",
       "      <td>Sub-Saharan Africa (IDA &amp; IBRD countries)</td>\n",
       "      <td>41.641094</td>\n",
       "    </tr>\n",
       "    <tr>\n",
       "      <th>202</th>\n",
       "      <td>Sub-Saharan Africa</td>\n",
       "      <td>41.641094</td>\n",
       "    </tr>\n",
       "    <tr>\n",
       "      <th>203</th>\n",
       "      <td>Sub-Saharan Africa (excluding high income)</td>\n",
       "      <td>41.639664</td>\n",
       "    </tr>\n",
       "    <tr>\n",
       "      <th>204</th>\n",
       "      <td>Maldives</td>\n",
       "      <td>40.887333</td>\n",
       "    </tr>\n",
       "    <tr>\n",
       "      <th>205</th>\n",
       "      <td>Mauritius</td>\n",
       "      <td>40.795167</td>\n",
       "    </tr>\n",
       "  </tbody>\n",
       "</table>\n",
       "<p>206 rows × 2 columns</p>\n",
       "</div>"
      ],
      "text/plain": [
       "                                   country_name   avg_urban\n",
       "0                                       Bermuda  100.000000\n",
       "1                                        Monaco  100.000000\n",
       "2                                         Nauru  100.000000\n",
       "3                                     Gibraltar  100.000000\n",
       "4                                        Kuwait  100.000000\n",
       "..                                          ...         ...\n",
       "201   Sub-Saharan Africa (IDA & IBRD countries)   41.641094\n",
       "202                          Sub-Saharan Africa   41.641094\n",
       "203  Sub-Saharan Africa (excluding high income)   41.639664\n",
       "204                                    Maldives   40.887333\n",
       "205                                   Mauritius   40.795167\n",
       "\n",
       "[206 rows x 2 columns]"
      ]
     },
     "execution_count": 23,
     "metadata": {},
     "output_type": "execute_result"
    }
   ],
   "source": [
    "# Write your answer here:\n",
    "avg_subset = pd.read_sql(text(\"SELECT country_name, AVG(prop_urban) AS avg_urban \\\n",
    "                                       FROM wdi_data \\\n",
    "                                       GROUP BY country_name \\\n",
    "                                       HAVING AVG(prop_urban) > 40 \\\n",
    "                                       ORDER BY avg_urban DESC;\"), connection)\n",
    "\n",
    "avg_subset\n"
   ]
  },
  {
   "cell_type": "markdown",
   "metadata": {},
   "source": [
    "<font size = \"5\">\n",
    "\n",
    "(d) Groupby + Aggregate\n",
    "\n",
    "<font size = \"3\">\n",
    "\n",
    "(1) Run a query using ```pd.read_sql()```\n",
    "- From ```wdi_data```, obtain the average, minimum, and maximum <br>\n",
    "of \"prop_urban\" by \"year\" using ```GROUP BY```\n",
    "- Use ```ORDER BY ``` to sort by the average of \"avg_prop_urban\"\n",
    "- Make sure to separate pieces of your logic over seperate lines  by a ```\\```\n",
    "- Store the output as a pandas object called ```wdi_grouped```\n",
    "\n",
    "(2) Upload\n",
    "- Reupload the result to the server as ```wdi_grouped_data``` using ```to_sql```"
   ]
  },
  {
   "cell_type": "code",
   "execution_count": null,
   "metadata": {},
   "outputs": [
    {
     "data": {
      "application/vnd.microsoft.datawrangler.viewer.v0+json": {
       "columns": [
        {
         "name": "index",
         "rawType": "int64",
         "type": "integer"
        },
        {
         "name": "year",
         "rawType": "int64",
         "type": "integer"
        },
        {
         "name": "avg_prop_urban",
         "rawType": "float64",
         "type": "float"
        },
        {
         "name": "min_prop_urban",
         "rawType": "float64",
         "type": "float"
        },
        {
         "name": "max_prop_urban",
         "rawType": "float64",
         "type": "float"
        }
       ],
       "conversionMethod": "pd.DataFrame",
       "ref": "783726de-6fcd-4856-8217-4bfafc874ad3",
       "rows": [
        [
         "0",
         "2018",
         "59.73282947015333",
         "13.032",
         "100.0"
        ],
        [
         "1",
         "2019",
         "60.05411937929969",
         "13.25",
         "100.0"
        ],
        [
         "2",
         "2020",
         "60.37962726551563",
         "13.345",
         "100.0"
        ],
        [
         "3",
         "2021",
         "60.707990378646066",
         "13.456",
         "100.0"
        ],
        [
         "4",
         "2022",
         "61.04183814943683",
         "13.582",
         "100.0"
        ],
        [
         "5",
         "2023",
         "61.379118848643714",
         "13.723",
         "100.0"
        ]
       ],
       "shape": {
        "columns": 4,
        "rows": 6
       }
      },
      "text/html": [
       "<div>\n",
       "<style scoped>\n",
       "    .dataframe tbody tr th:only-of-type {\n",
       "        vertical-align: middle;\n",
       "    }\n",
       "\n",
       "    .dataframe tbody tr th {\n",
       "        vertical-align: top;\n",
       "    }\n",
       "\n",
       "    .dataframe thead th {\n",
       "        text-align: right;\n",
       "    }\n",
       "</style>\n",
       "<table border=\"1\" class=\"dataframe\">\n",
       "  <thead>\n",
       "    <tr style=\"text-align: right;\">\n",
       "      <th></th>\n",
       "      <th>year</th>\n",
       "      <th>avg_prop_urban</th>\n",
       "      <th>min_prop_urban</th>\n",
       "      <th>max_prop_urban</th>\n",
       "    </tr>\n",
       "  </thead>\n",
       "  <tbody>\n",
       "    <tr>\n",
       "      <th>0</th>\n",
       "      <td>2018</td>\n",
       "      <td>59.732829</td>\n",
       "      <td>13.032</td>\n",
       "      <td>100.0</td>\n",
       "    </tr>\n",
       "    <tr>\n",
       "      <th>1</th>\n",
       "      <td>2019</td>\n",
       "      <td>60.054119</td>\n",
       "      <td>13.250</td>\n",
       "      <td>100.0</td>\n",
       "    </tr>\n",
       "    <tr>\n",
       "      <th>2</th>\n",
       "      <td>2020</td>\n",
       "      <td>60.379627</td>\n",
       "      <td>13.345</td>\n",
       "      <td>100.0</td>\n",
       "    </tr>\n",
       "    <tr>\n",
       "      <th>3</th>\n",
       "      <td>2021</td>\n",
       "      <td>60.707990</td>\n",
       "      <td>13.456</td>\n",
       "      <td>100.0</td>\n",
       "    </tr>\n",
       "    <tr>\n",
       "      <th>4</th>\n",
       "      <td>2022</td>\n",
       "      <td>61.041838</td>\n",
       "      <td>13.582</td>\n",
       "      <td>100.0</td>\n",
       "    </tr>\n",
       "    <tr>\n",
       "      <th>5</th>\n",
       "      <td>2023</td>\n",
       "      <td>61.379119</td>\n",
       "      <td>13.723</td>\n",
       "      <td>100.0</td>\n",
       "    </tr>\n",
       "  </tbody>\n",
       "</table>\n",
       "</div>"
      ],
      "text/plain": [
       "   year  avg_prop_urban  min_prop_urban  max_prop_urban\n",
       "0  2018       59.732829          13.032           100.0\n",
       "1  2019       60.054119          13.250           100.0\n",
       "2  2020       60.379627          13.345           100.0\n",
       "3  2021       60.707990          13.456           100.0\n",
       "4  2022       61.041838          13.582           100.0\n",
       "5  2023       61.379119          13.723           100.0"
      ]
     },
     "execution_count": 26,
     "metadata": {},
     "output_type": "execute_result"
    }
   ],
   "source": [
    "# Write your own code                     \n",
    "wdi_grouped_data = pd.read_sql(text(\"SELECT year, AVG(prop_urban) AS avg_prop_urban, \\\n",
    "                                    MIN(prop_urban) AS min_prop_urban, \\\n",
    "                                    MAX(prop_urban) AS max_prop_urban \\\n",
    "                                    FROM wdi_data \\\n",
    "                                    GROUP BY year \\\n",
    "                                    ORDER BY avg_prop_urban ASC;\"), connection)\n",
    "\n",
    "wdi_grouped_data.to_sql(name='wdi_grouped_data',\n",
    "                        con=connection,\n",
    "                        if_exists='replace',\n",
    "                        index=False)\n",
    "\n",
    "wdi_grouped_data\n"
   ]
  },
  {
   "cell_type": "markdown",
   "metadata": {},
   "source": [
    "<font size = \"5\">\n",
    "\n",
    "(e) Merge\n",
    "\n",
    "<font size = \"3\">\n",
    "\n",
    "This question depends on your answer to question (d).\n",
    "\n",
    "For the following command use ```pd.read_sql()```\n",
    "\n",
    "- From ```wdi_data```, ```LEFT JOIN``` the dataset ```wdi_grouped_data``` <br>\n",
    "using ```year``` as a merging variable. \n",
    "- Hint: See Lecture on SQL for how to merge datasets\n"
   ]
  },
  {
   "cell_type": "code",
   "execution_count": null,
   "metadata": {},
   "outputs": [
    {
     "data": {
      "application/vnd.microsoft.datawrangler.viewer.v0+json": {
       "columns": [
        {
         "name": "index",
         "rawType": "int64",
         "type": "integer"
        },
        {
         "name": "year",
         "rawType": "int64",
         "type": "integer"
        },
        {
         "name": "country_name",
         "rawType": "object",
         "type": "string"
        },
        {
         "name": "country_code",
         "rawType": "object",
         "type": "string"
        },
        {
         "name": "prop_urban",
         "rawType": "float64",
         "type": "float"
        },
        {
         "name": "year",
         "rawType": "int64",
         "type": "integer"
        },
        {
         "name": "avg_prop_urban",
         "rawType": "float64",
         "type": "float"
        },
        {
         "name": "min_prop_urban",
         "rawType": "float64",
         "type": "float"
        },
        {
         "name": "max_prop_urban",
         "rawType": "float64",
         "type": "float"
        }
       ],
       "conversionMethod": "pd.DataFrame",
       "ref": "f5412c37-03d3-452e-97e4-0056d4817ceb",
       "rows": [
        [
         "0",
         "2018",
         "Aruba",
         "ABW",
         "43.411",
         "2018",
         "59.73282947015333",
         "13.032",
         "100.0"
        ],
        [
         "1",
         "2018",
         "Africa Eastern and Southern",
         "AFE",
         "35.8933979262181",
         "2018",
         "59.73282947015333",
         "13.032",
         "100.0"
        ],
        [
         "2",
         "2018",
         "Afghanistan",
         "AFG",
         "25.495",
         "2018",
         "59.73282947015333",
         "13.032",
         "100.0"
        ],
        [
         "3",
         "2018",
         "Africa Western and Central",
         "AFW",
         "46.7097526162217",
         "2018",
         "59.73282947015333",
         "13.032",
         "100.0"
        ],
        [
         "4",
         "2018",
         "Angola",
         "AGO",
         "65.514",
         "2018",
         "59.73282947015333",
         "13.032",
         "100.0"
        ],
        [
         "5",
         "2018",
         "Albania",
         "ALB",
         "60.319",
         "2018",
         "59.73282947015333",
         "13.032",
         "100.0"
        ],
        [
         "6",
         "2018",
         "Andorra",
         "AND",
         "88.062",
         "2018",
         "59.73282947015333",
         "13.032",
         "100.0"
        ],
        [
         "7",
         "2018",
         "Arab World",
         "ARB",
         "58.0104842292073",
         "2018",
         "59.73282947015333",
         "13.032",
         "100.0"
        ],
        [
         "8",
         "2018",
         "United Arab Emirates",
         "ARE",
         "86.522",
         "2018",
         "59.73282947015333",
         "13.032",
         "100.0"
        ],
        [
         "9",
         "2018",
         "Argentina",
         "ARG",
         "91.87",
         "2018",
         "59.73282947015333",
         "13.032",
         "100.0"
        ],
        [
         "10",
         "2018",
         "Armenia",
         "ARM",
         "63.149",
         "2018",
         "59.73282947015333",
         "13.032",
         "100.0"
        ],
        [
         "11",
         "2018",
         "American Samoa",
         "ASM",
         "87.153",
         "2018",
         "59.73282947015333",
         "13.032",
         "100.0"
        ],
        [
         "12",
         "2018",
         "Antigua and Barbuda",
         "ATG",
         "24.599",
         "2018",
         "59.73282947015333",
         "13.032",
         "100.0"
        ],
        [
         "13",
         "2018",
         "Australia",
         "AUS",
         "86.012",
         "2018",
         "59.73282947015333",
         "13.032",
         "100.0"
        ],
        [
         "14",
         "2018",
         "Austria",
         "AUT",
         "58.297",
         "2018",
         "59.73282947015333",
         "13.032",
         "100.0"
        ],
        [
         "15",
         "2018",
         "Azerbaijan",
         "AZE",
         "55.68",
         "2018",
         "59.73282947015333",
         "13.032",
         "100.0"
        ],
        [
         "16",
         "2018",
         "Burundi",
         "BDI",
         "13.032",
         "2018",
         "59.73282947015333",
         "13.032",
         "100.0"
        ],
        [
         "17",
         "2018",
         "Belgium",
         "BEL",
         "98.001",
         "2018",
         "59.73282947015333",
         "13.032",
         "100.0"
        ],
        [
         "18",
         "2018",
         "Benin",
         "BEN",
         "47.312",
         "2018",
         "59.73282947015333",
         "13.032",
         "100.0"
        ],
        [
         "19",
         "2018",
         "Burkina Faso",
         "BFA",
         "29.358",
         "2018",
         "59.73282947015333",
         "13.032",
         "100.0"
        ],
        [
         "20",
         "2018",
         "Bangladesh",
         "BGD",
         "36.632",
         "2018",
         "59.73282947015333",
         "13.032",
         "100.0"
        ],
        [
         "21",
         "2018",
         "Bulgaria",
         "BGR",
         "75.008",
         "2018",
         "59.73282947015333",
         "13.032",
         "100.0"
        ],
        [
         "22",
         "2018",
         "Bahrain",
         "BHR",
         "89.287",
         "2018",
         "59.73282947015333",
         "13.032",
         "100.0"
        ],
        [
         "23",
         "2018",
         "Bahamas, The",
         "BHS",
         "83.025",
         "2018",
         "59.73282947015333",
         "13.032",
         "100.0"
        ],
        [
         "24",
         "2018",
         "Bosnia and Herzegovina",
         "BIH",
         "48.245",
         "2018",
         "59.73282947015333",
         "13.032",
         "100.0"
        ],
        [
         "25",
         "2018",
         "Belarus",
         "BLR",
         "78.595",
         "2018",
         "59.73282947015333",
         "13.032",
         "100.0"
        ],
        [
         "26",
         "2018",
         "Belize",
         "BLZ",
         "45.724",
         "2018",
         "59.73282947015333",
         "13.032",
         "100.0"
        ],
        [
         "27",
         "2018",
         "Bermuda",
         "BMU",
         "100.0",
         "2018",
         "59.73282947015333",
         "13.032",
         "100.0"
        ],
        [
         "28",
         "2018",
         "Bolivia",
         "BOL",
         "69.425",
         "2018",
         "59.73282947015333",
         "13.032",
         "100.0"
        ],
        [
         "29",
         "2018",
         "Brazil",
         "BRA",
         "86.569",
         "2018",
         "59.73282947015333",
         "13.032",
         "100.0"
        ],
        [
         "30",
         "2018",
         "Barbados",
         "BRB",
         "31.147",
         "2018",
         "59.73282947015333",
         "13.032",
         "100.0"
        ],
        [
         "31",
         "2018",
         "Brunei Darussalam",
         "BRN",
         "77.629",
         "2018",
         "59.73282947015333",
         "13.032",
         "100.0"
        ],
        [
         "32",
         "2018",
         "Bhutan",
         "BTN",
         "40.895",
         "2018",
         "59.73282947015333",
         "13.032",
         "100.0"
        ],
        [
         "33",
         "2018",
         "Botswana",
         "BWA",
         "69.446",
         "2018",
         "59.73282947015333",
         "13.032",
         "100.0"
        ],
        [
         "34",
         "2018",
         "Central African Republic",
         "CAF",
         "41.364",
         "2018",
         "59.73282947015333",
         "13.032",
         "100.0"
        ],
        [
         "35",
         "2018",
         "Canada",
         "CAN",
         "81.411",
         "2018",
         "59.73282947015333",
         "13.032",
         "100.0"
        ],
        [
         "36",
         "2018",
         "Central Europe and the Baltics",
         "CEB",
         "62.3388759895791",
         "2018",
         "59.73282947015333",
         "13.032",
         "100.0"
        ],
        [
         "37",
         "2018",
         "Switzerland",
         "CHE",
         "73.797",
         "2018",
         "59.73282947015333",
         "13.032",
         "100.0"
        ],
        [
         "38",
         "2018",
         "Channel Islands",
         "CHI",
         "30.914",
         "2018",
         "59.73282947015333",
         "13.032",
         "100.0"
        ],
        [
         "39",
         "2018",
         "Chile",
         "CHL",
         "87.564",
         "2018",
         "59.73282947015333",
         "13.032",
         "100.0"
        ],
        [
         "40",
         "2018",
         "China",
         "CHN",
         "59.152",
         "2018",
         "59.73282947015333",
         "13.032",
         "100.0"
        ],
        [
         "41",
         "2018",
         "Cote d'Ivoire",
         "CIV",
         "50.779",
         "2018",
         "59.73282947015333",
         "13.032",
         "100.0"
        ],
        [
         "42",
         "2018",
         "Cameroon",
         "CMR",
         "56.374",
         "2018",
         "59.73282947015333",
         "13.032",
         "100.0"
        ],
        [
         "43",
         "2018",
         "Congo, Dem. Rep.",
         "COD",
         "44.46",
         "2018",
         "59.73282947015333",
         "13.032",
         "100.0"
        ],
        [
         "44",
         "2018",
         "Congo, Rep.",
         "COG",
         "66.916",
         "2018",
         "59.73282947015333",
         "13.032",
         "100.0"
        ],
        [
         "45",
         "2018",
         "Colombia",
         "COL",
         "80.778",
         "2018",
         "59.73282947015333",
         "13.032",
         "100.0"
        ],
        [
         "46",
         "2018",
         "Comoros",
         "COM",
         "28.965",
         "2018",
         "59.73282947015333",
         "13.032",
         "100.0"
        ],
        [
         "47",
         "2018",
         "Cabo Verde",
         "CPV",
         "65.732",
         "2018",
         "59.73282947015333",
         "13.032",
         "100.0"
        ],
        [
         "48",
         "2018",
         "Costa Rica",
         "CRI",
         "79.34",
         "2018",
         "59.73282947015333",
         "13.032",
         "100.0"
        ],
        [
         "49",
         "2018",
         "Caribbean small states",
         "CSS",
         "46.2088839898113",
         "2018",
         "59.73282947015333",
         "13.032",
         "100.0"
        ]
       ],
       "shape": {
        "columns": 8,
        "rows": 1578
       }
      },
      "text/html": [
       "<div>\n",
       "<style scoped>\n",
       "    .dataframe tbody tr th:only-of-type {\n",
       "        vertical-align: middle;\n",
       "    }\n",
       "\n",
       "    .dataframe tbody tr th {\n",
       "        vertical-align: top;\n",
       "    }\n",
       "\n",
       "    .dataframe thead th {\n",
       "        text-align: right;\n",
       "    }\n",
       "</style>\n",
       "<table border=\"1\" class=\"dataframe\">\n",
       "  <thead>\n",
       "    <tr style=\"text-align: right;\">\n",
       "      <th></th>\n",
       "      <th>year</th>\n",
       "      <th>country_name</th>\n",
       "      <th>country_code</th>\n",
       "      <th>prop_urban</th>\n",
       "      <th>year</th>\n",
       "      <th>avg_prop_urban</th>\n",
       "      <th>min_prop_urban</th>\n",
       "      <th>max_prop_urban</th>\n",
       "    </tr>\n",
       "  </thead>\n",
       "  <tbody>\n",
       "    <tr>\n",
       "      <th>0</th>\n",
       "      <td>2018</td>\n",
       "      <td>Aruba</td>\n",
       "      <td>ABW</td>\n",
       "      <td>43.411000</td>\n",
       "      <td>2018</td>\n",
       "      <td>59.732829</td>\n",
       "      <td>13.032</td>\n",
       "      <td>100.0</td>\n",
       "    </tr>\n",
       "    <tr>\n",
       "      <th>1</th>\n",
       "      <td>2018</td>\n",
       "      <td>Africa Eastern and Southern</td>\n",
       "      <td>AFE</td>\n",
       "      <td>35.893398</td>\n",
       "      <td>2018</td>\n",
       "      <td>59.732829</td>\n",
       "      <td>13.032</td>\n",
       "      <td>100.0</td>\n",
       "    </tr>\n",
       "    <tr>\n",
       "      <th>2</th>\n",
       "      <td>2018</td>\n",
       "      <td>Afghanistan</td>\n",
       "      <td>AFG</td>\n",
       "      <td>25.495000</td>\n",
       "      <td>2018</td>\n",
       "      <td>59.732829</td>\n",
       "      <td>13.032</td>\n",
       "      <td>100.0</td>\n",
       "    </tr>\n",
       "    <tr>\n",
       "      <th>3</th>\n",
       "      <td>2018</td>\n",
       "      <td>Africa Western and Central</td>\n",
       "      <td>AFW</td>\n",
       "      <td>46.709753</td>\n",
       "      <td>2018</td>\n",
       "      <td>59.732829</td>\n",
       "      <td>13.032</td>\n",
       "      <td>100.0</td>\n",
       "    </tr>\n",
       "    <tr>\n",
       "      <th>4</th>\n",
       "      <td>2018</td>\n",
       "      <td>Angola</td>\n",
       "      <td>AGO</td>\n",
       "      <td>65.514000</td>\n",
       "      <td>2018</td>\n",
       "      <td>59.732829</td>\n",
       "      <td>13.032</td>\n",
       "      <td>100.0</td>\n",
       "    </tr>\n",
       "    <tr>\n",
       "      <th>...</th>\n",
       "      <td>...</td>\n",
       "      <td>...</td>\n",
       "      <td>...</td>\n",
       "      <td>...</td>\n",
       "      <td>...</td>\n",
       "      <td>...</td>\n",
       "      <td>...</td>\n",
       "      <td>...</td>\n",
       "    </tr>\n",
       "    <tr>\n",
       "      <th>1573</th>\n",
       "      <td>2023</td>\n",
       "      <td>Samoa</td>\n",
       "      <td>WSM</td>\n",
       "      <td>17.508000</td>\n",
       "      <td>2023</td>\n",
       "      <td>61.379119</td>\n",
       "      <td>13.723</td>\n",
       "      <td>100.0</td>\n",
       "    </tr>\n",
       "    <tr>\n",
       "      <th>1574</th>\n",
       "      <td>2023</td>\n",
       "      <td>Yemen, Rep.</td>\n",
       "      <td>YEM</td>\n",
       "      <td>39.831000</td>\n",
       "      <td>2023</td>\n",
       "      <td>61.379119</td>\n",
       "      <td>13.723</td>\n",
       "      <td>100.0</td>\n",
       "    </tr>\n",
       "    <tr>\n",
       "      <th>1575</th>\n",
       "      <td>2023</td>\n",
       "      <td>South Africa</td>\n",
       "      <td>ZAF</td>\n",
       "      <td>68.819000</td>\n",
       "      <td>2023</td>\n",
       "      <td>61.379119</td>\n",
       "      <td>13.723</td>\n",
       "      <td>100.0</td>\n",
       "    </tr>\n",
       "    <tr>\n",
       "      <th>1576</th>\n",
       "      <td>2023</td>\n",
       "      <td>Zambia</td>\n",
       "      <td>ZMB</td>\n",
       "      <td>46.335000</td>\n",
       "      <td>2023</td>\n",
       "      <td>61.379119</td>\n",
       "      <td>13.723</td>\n",
       "      <td>100.0</td>\n",
       "    </tr>\n",
       "    <tr>\n",
       "      <th>1577</th>\n",
       "      <td>2023</td>\n",
       "      <td>Zimbabwe</td>\n",
       "      <td>ZWE</td>\n",
       "      <td>32.517000</td>\n",
       "      <td>2023</td>\n",
       "      <td>61.379119</td>\n",
       "      <td>13.723</td>\n",
       "      <td>100.0</td>\n",
       "    </tr>\n",
       "  </tbody>\n",
       "</table>\n",
       "<p>1578 rows × 8 columns</p>\n",
       "</div>"
      ],
      "text/plain": [
       "      year                 country_name country_code  prop_urban  year  \\\n",
       "0     2018                        Aruba          ABW   43.411000  2018   \n",
       "1     2018  Africa Eastern and Southern          AFE   35.893398  2018   \n",
       "2     2018                  Afghanistan          AFG   25.495000  2018   \n",
       "3     2018   Africa Western and Central          AFW   46.709753  2018   \n",
       "4     2018                       Angola          AGO   65.514000  2018   \n",
       "...    ...                          ...          ...         ...   ...   \n",
       "1573  2023                        Samoa          WSM   17.508000  2023   \n",
       "1574  2023                  Yemen, Rep.          YEM   39.831000  2023   \n",
       "1575  2023                 South Africa          ZAF   68.819000  2023   \n",
       "1576  2023                       Zambia          ZMB   46.335000  2023   \n",
       "1577  2023                     Zimbabwe          ZWE   32.517000  2023   \n",
       "\n",
       "      avg_prop_urban  min_prop_urban  max_prop_urban  \n",
       "0          59.732829          13.032           100.0  \n",
       "1          59.732829          13.032           100.0  \n",
       "2          59.732829          13.032           100.0  \n",
       "3          59.732829          13.032           100.0  \n",
       "4          59.732829          13.032           100.0  \n",
       "...              ...             ...             ...  \n",
       "1573       61.379119          13.723           100.0  \n",
       "1574       61.379119          13.723           100.0  \n",
       "1575       61.379119          13.723           100.0  \n",
       "1576       61.379119          13.723           100.0  \n",
       "1577       61.379119          13.723           100.0  \n",
       "\n",
       "[1578 rows x 8 columns]"
      ]
     },
     "execution_count": 28,
     "metadata": {},
     "output_type": "execute_result"
    }
   ],
   "source": [
    "# Write your own code\n",
    "merged_data = pd.read_sql(text(\"SELECT * \\\n",
    "                               FROM wdi_data \\\n",
    "                               LEFT JOIN wdi_grouped_data \\\n",
    "                               ON wdi_data.year = wdi_grouped_data.year;\"), connection)\n",
    "\n",
    "merged_data"
   ]
  }
 ],
 "metadata": {
  "kernelspec": {
   "display_name": "base",
   "language": "python",
   "name": "python3"
  },
  "language_info": {
   "codemirror_mode": {
    "name": "ipython",
    "version": 3
   },
   "file_extension": ".py",
   "mimetype": "text/x-python",
   "name": "python",
   "nbconvert_exporter": "python",
   "pygments_lexer": "ipython3",
   "version": "3.12.7"
  },
  "orig_nbformat": 4
 },
 "nbformat": 4,
 "nbformat_minor": 2
}
