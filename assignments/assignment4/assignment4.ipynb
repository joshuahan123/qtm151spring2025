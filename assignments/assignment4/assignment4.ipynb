{
 "cells": [
  {
   "cell_type": "markdown",
   "metadata": {},
   "source": [
    "# Assignment 4"
   ]
  },
  {
   "cell_type": "markdown",
   "metadata": {},
   "source": [
    "## Submit as an HTML file"
   ]
  },
  {
   "cell_type": "markdown",
   "metadata": {},
   "source": [
    "<font size = \"5\">\n",
    "Print your name and Emory ID below"
   ]
  },
  {
   "cell_type": "code",
   "execution_count": 1,
   "metadata": {},
   "outputs": [
    {
     "name": "stdout",
     "output_type": "stream",
     "text": [
      "Joshua Han, 2669234\n"
     ]
    }
   ],
   "source": [
    "print(\"Joshua Han, 2669234\")"
   ]
  },
  {
   "cell_type": "markdown",
   "metadata": {},
   "source": [
    "<font size = \"5\">\n",
    "Importing relevant libraries (matplotlib, NumPy)"
   ]
  },
  {
   "cell_type": "code",
   "execution_count": 2,
   "metadata": {},
   "outputs": [],
   "source": [
    "import matplotlib.pyplot as plt\n",
    "import numpy as np"
   ]
  },
  {
   "cell_type": "markdown",
   "metadata": {},
   "source": [
    "### a) For-loops and Conditional Statements  \n",
    "\n",
    "Using the list of test scores below, create a new list of students who made the honor roll (students with a grade greater than or equal to 90).  \n",
    "\n",
    "- Create a second list containing student names, where each name directly corresponds to a score in `test_scores`.  \n",
    "- Use a for loop to iterate through both lists and store the names and scores of students who made the honor roll in two new lists:  \n",
    "  - `honor_roll_names`: The names of students who made the honor roll.  \n",
    "  - `honor_roll_scores`: The scores of students who made the honor roll.  \n",
    "- Print the results of both lists."
   ]
  },
  {
   "cell_type": "code",
   "execution_count": 3,
   "metadata": {},
   "outputs": [],
   "source": [
    "test_scores = [85, 92, 88, 96, 75, 91, 89, 98, 72, 90]\n",
    "student_names = [\"Alice\", \"Bob\", \"Charlie\", \"David\", \"Eve\", \n",
    "                 \"Frank\", \"Grace\", \"Hannah\", \"Ivy\", \"Jack\"]"
   ]
  },
  {
   "cell_type": "code",
   "execution_count": 36,
   "metadata": {},
   "outputs": [],
   "source": [
    "# Write your answer here\n",
    "honor_roll_scores = []\n",
    "honor_roll_names = []\n",
    "new_list = [test_scores, student_names]\n",
    "\n",
    "for score in test_scores:\n",
    "    if score >= 90:\n",
    "        honor_roll_scores.append(score)\n",
    "\n",
    "#HELP\n"
   ]
  },
  {
   "cell_type": "markdown",
   "metadata": {},
   "source": [
    "### b) Follow-up to Part (a)  \n",
    "\n",
    "Using NumPy, perform the following operations on the `honor_roll_scores` list:  \n",
    "\n",
    "- Count and print the total number of students who made the honor roll using `np.size()`.  \n",
    "- Calculate and print the average score of the students on the honor roll using `np.mean()`.  \n",
    "- Determine and print the highest score from the honor roll using `np.max()`.  \n",
    "- Print the total number of students, average score and the highest score found.\n",
    "\n",
    "#### Hint:  \n",
    "First convert the scores array to a NumPy array.<br>\n",
    "Use the following NumPy functions where necessary:  \n",
    "- [`np.size()`](https://numpy.org/doc/stable/reference/generated/numpy.size.html)  \n",
    "- [`np.mean()`](https://numpy.org/doc/stable/reference/generated/numpy.mean.html)  \n",
    "- [`np.max()`](https://numpy.org/doc/stable/reference/generated/numpy.amax.html)  "
   ]
  },
  {
   "cell_type": "code",
   "execution_count": 18,
   "metadata": {},
   "outputs": [
    {
     "name": "stdout",
     "output_type": "stream",
     "text": [
      "5\n",
      "93.4\n",
      "98\n"
     ]
    }
   ],
   "source": [
    "#Write your answer here\n",
    "print(np.size(honor_roll_scores))\n",
    "print(np.mean(honor_roll_scores))\n",
    "print(np.max(honor_roll_scores))"
   ]
  },
  {
   "cell_type": "markdown",
   "metadata": {},
   "source": [
    "<font size = '5'>\n",
    "c) For-loops + plotting\n",
    "\n",
    "<font size = \"3\">\n",
    "\n",
    "   - Create an array of x-values with all the integers between 1 and 15.\n",
    "   - Create a vector ```vec_y1``` where each element is computed from the formula <br> $ y_1 = 3x^3 + 5x^2 - x$.\n",
    "   - Create a vector ```vec_y2``` where each element is computed from the formula <br> $ y_2 = x^4 - 6x^2 + 2x$.\n",
    "   - Create an object ```list_vectors``` with elements ```vec_y1``` and ```vec_y2```.\n",
    "   - Create a for-loop that goes through each element of ```list_vectors``` and plots each list of $y$ values against $x$.\n",
    "\n",
    "Note: The final output should be a 2-dimensional scatter plot with two sets of points, with the $y_1$ and $y_2$ on the vertical axis, and the $x$ values <br>\n",
    "on the horizontal axis. Remember to always label the axes and add a title to the plot to make it look more professional."
   ]
  },
  {
   "cell_type": "code",
   "execution_count": 32,
   "metadata": {},
   "outputs": [
    {
     "data": {
      "image/png": "[encoded data removed]",
      "text/plain": [
       "<Figure size 640x480 with 1 Axes>"
      ]
     },
     "metadata": {},
     "output_type": "display_data"
    }
   ],
   "source": [
    "#Write your answer here\n",
    "x_values = np.array([1,2,3,4,5,6,7,8,9,10,11,12,13,14,15])\n",
    "vec_y1 = []\n",
    "vec_y2 = []\n",
    "\n",
    "for i in x_values:\n",
    "    vec_y1.append(3*i**3 + 5*i**2 - i)\n",
    "\n",
    "for j in x_values:\n",
    "    vec_y2.append(j**4 + 6*j**2 + 2*j)\n",
    "\n",
    "list_vectors = [vec_y1, vec_y2]\n",
    "for i in list_vectors:\n",
    "    plt.scatter(x = x_values, y = i)\n",
    "    plt.title(\"Two Sets of Outputs\")\n",
    "    plt.xlabel(\"Input\")\n",
    "    plt.ylabel(\"Outputs\")\n"
   ]
  },
  {
   "cell_type": "markdown",
   "metadata": {},
   "source": [
    "### d) Average grades, learn how to use zip()\n",
    "\n",
    "- Below, write a chunk of code that prints out the average grade for each student. The names and grades are given in the lists below.  \n",
    "- The program should print the student's name and their average grade, formatted like this: \n",
    "\n",
    "```\n",
    "Alice's average grade: 87.67\n",
    "Bob's average grade: 88.0\n",
    "Charlie's average grade: 89.33\n",
    "David's average grade: 96.0\n",
    "Eve's average grade: 78.33\n",
    "```\n",
    "\n",
    "Hints/Tips:\n",
    "- You can use zip() to iterate through multiple lists at once, making the code cleaner.\n",
    "- You can learn more about zip() here: [Python zip() Function](https://www.geeksforgeeks.org/zip-in-python/)\n",
    "- When you print the statements out, you can cast the average grade to a string using str()\n",
    "- Ignore the rounding, the number of decimal places in each calculated average grade does not matter."
   ]
  },
  {
   "cell_type": "code",
   "execution_count": 37,
   "metadata": {},
   "outputs": [],
   "source": [
    "student_names = [\"Alice\", \"Bob\", \"Charlie\", \"David\", \"Eve\"]\n",
    "grades1 = [85, 92, 88, 96, 75]\n",
    "grades2 = [90, 80, 89, 94, 82]\n",
    "grades3 = [88, 95, 91, 98, 78]"
   ]
  },
  {
   "cell_type": "code",
   "execution_count": 50,
   "metadata": {},
   "outputs": [
    {
     "name": "stdout",
     "output_type": "stream",
     "text": [
      "[(85, 90, 88), (92, 80, 95), (88, 89, 91), (96, 94, 98), (75, 82, 78)]\n",
      "[]\n"
     ]
    }
   ],
   "source": [
    "# Write your answer here\n",
    "res = zip(grades1, grades2, grades3)\n",
    "print(list(res))\n",
    "\n",
    "for student in res:\n",
    "    avg_grades = np.mean(student)\n",
    "\n",
    "print(avg_grades)"
   ]
  },
  {
   "cell_type": "markdown",
   "metadata": {},
   "source": [
    "### e) Simulating and visualizing \n",
    "In order to recieve full credit, please answer the first question in the markdown cell below the code. Answer the second question by making your changes to the code chunk below.\n",
    "- How does the sample size and the number of simulations affect the distribution of the sample means in the code below?\n",
    "- Generate and plot multiple histograms with different sample sizes:\n",
    "    - Create at three histograms: one with a small sample size (e.g., 10), one with a medium sample size (e.g., 100), and one with a large sample size (e.g., 1000).\n",
    "    - Make sure that the number of simulations is the same for all three (set the number of simulations to 250)"
   ]
  },
  {
   "cell_type": "code",
   "execution_count": 51,
   "metadata": {},
   "outputs": [
    {
     "data": {
      "image/png": "[encoded data removed]",
      "text/plain": [
       "<Figure size 640x480 with 1 Axes>"
      ]
     },
     "metadata": {},
     "output_type": "display_data"
    }
   ],
   "source": [
    "num_simulations = 2000\n",
    "sample_size     = 100\n",
    "\n",
    "vec_xbar = [None] * num_simulations\n",
    "\n",
    "for iteration in range(num_simulations):\n",
    "    vec_unif  = np.random.uniform(low = -2, high=2, size = sample_size)\n",
    "    vec_xbar[iteration] = vec_unif.mean()\n",
    "\n",
    "vec_xbar\n",
    "\n",
    "plt.hist(vec_xbar)\n",
    "plt.title(\"Distribution of Xbar with different simulated samples\")\n",
    "plt.ylabel(\"Frequency\")\n",
    "plt.xlabel(\"Values of Xbar\")\n",
    "plt.show()"
   ]
  },
  {
   "cell_type": "markdown",
   "metadata": {},
   "source": [
    "### Write your answer in this cell"
   ]
  },
  {
   "cell_type": "code",
   "execution_count": null,
   "metadata": {},
   "outputs": [],
   "source": [
    "#Small sample (write your answer here)"
   ]
  },
  {
   "cell_type": "code",
   "execution_count": 12,
   "metadata": {},
   "outputs": [],
   "source": [
    "#Medium sample (write your answer here)"
   ]
  },
  {
   "cell_type": "code",
   "execution_count": 11,
   "metadata": {},
   "outputs": [],
   "source": [
    "#Large sample (write your answer here)"
   ]
  }
 ],
 "metadata": {
  "kernelspec": {
   "display_name": "base",
   "language": "python",
   "name": "python3"
  },
  "language_info": {
   "codemirror_mode": {
    "name": "ipython",
    "version": 3
   },
   "file_extension": ".py",
   "mimetype": "text/x-python",
   "name": "python",
   "nbconvert_exporter": "python",
   "pygments_lexer": "ipython3",
   "version": "3.12.7"
  }
 },
 "nbformat": 4,
 "nbformat_minor": 2
}
