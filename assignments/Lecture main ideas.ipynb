{
 "cells": [
  {
   "cell_type": "markdown",
   "metadata": {},
   "source": [
    "2 - variables and lists, histogram\n",
    "3 - math operations, random numbers\n",
    "4 - boolean variables, if else\n",
    "5 - loops, manipulation of lists\n",
    "6 - loops, manipulation of lists, 3 histograms in a row\n",
    "7 - user defined functions, lambda functions\n",
    "8 - local/global variables, .py, apply(), map()\n",
    "9 - \n",
    "10 - pandas dataframes, subsetting data, iloc[], sort_values, .query()\n",
    "11 - linear regressions\n",
    "12 - replacing and recoding variables, nan, unique"
   ]
  }
 ],
 "metadata": {
  "language_info": {
   "name": "python"
  }
 },
 "nbformat": 4,
 "nbformat_minor": 2
}
