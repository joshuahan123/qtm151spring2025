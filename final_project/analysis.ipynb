{
 "cells": [
  {
   "cell_type": "markdown",
   "metadata": {},
   "source": [
    "# QTM 151 Final Project\n",
    "\n",
    "## How Home Country Races Impact F1 Driver Performance\n",
    "\n",
    "### Ajay Kartik, Joshua Han, and Jayden Bai (Section 1)"
   ]
  },
  {
   "cell_type": "markdown",
   "metadata": {},
   "source": [
    "## Introduction\n",
    "\n",
    "Formula 1, or F1, is a motorsport competition sanctioned by the Fédération Internationale de l'Automobile where teams race each other in open-wheel, high-speed cars. One season consists of a series of races, called Grand Prix. The two biggest championships are the Drivers' Championship and the Constructors' Championship. We hypothesize that there is a potential existence of a \"home race advantage\" -- that drivers might perform statistically better when racing in their home country. This project will investigate this hypothesis and seek to provide meaningful data, graphs, and conclusions. This question is relevant as it can be applied to most sports, and it can uncover factors past just their pure skill, which we find intriguing and interesting.\n",
    "\n",
    "Our goal with this analysis is to investigate whether F1 drivers experience a \"home race advantage.\" By merging and analyzing multiple tables from the dataset, we will compare the average points scored by drivers in home races with their performance in all other races. Looking at the CATE (conditioning on nationality), we find that drivers tend to perform the same or even worse at home."
   ]
  },
  {
   "cell_type": "markdown",
   "metadata": {},
   "source": [
    "## Data Description\n",
    "\n",
    "We will be using four tables from the dataset: *circuits*, *drivers*, *races*, and *results*.\n",
    "\n",
    "Each row in the *circuits* table contains information about a single race track (circuit), including its name, location, and country. There are 77 circuits in this table. \n",
    "\n",
    "Each row in the *drivers* table contains information about a driver: their name, nationality, and date of birth. There are 857 drivers in this table. \n",
    "\n",
    "Each row in the *races* table contains information about a specific race, including that year, round, and circuit where it is. There are 1102 races in this table. \n",
    "\n",
    "Each row in the *results* table contains a driver's result in a specific race, including their finishing position, points scored, and grid position. There are 25840 results in this table. "
   ]
  },
  {
   "cell_type": "code",
   "execution_count": 1,
   "metadata": {},
   "outputs": [],
   "source": [
    "# Importing libraries\n",
    "import pandas as pd\n",
    "import numpy as np\n",
    "import matplotlib.pyplot as plt"
   ]
  },
  {
   "cell_type": "code",
   "execution_count": null,
   "metadata": {},
   "outputs": [],
   "source": [
    "# Read CSV files\n",
    "drivers_df = pd.read_csv('data_raw/drivers.csv')\n",
    "races_df = pd.read_csv('data_raw/races.csv')\n",
    "circuits_df = pd.read_csv('data_raw/circuits.csv')\n",
    "results_df = pd.read_csv('data_raw/results.csv')\n",
    "\n",
    "drivers_df.head()"
   ]
  },
  {
   "cell_type": "markdown",
   "metadata": {},
   "source": [
    "## Project Design\n",
    "\n",
    "### Map: \n",
    "\n",
    "Let's do an analysis of the entire season's races and have a treatment T=1 for if the driver's nationality matches the location of the race and T=0 for if the driver's nationality does not match the location of the race.\n",
    "\n",
    "This means we can have average treatment effects for each nationality. This also means we'd probably have to calculate the ATE of the average performance of each driver when they are T=0 vs. the aveage performance of each driver when they are T=1 for each nationality that has T=1. \n",
    "\n",
    "### Performance Metrics:\n",
    "\n",
    "We'll start with measuring points earned as the metric of success from a race. \n",
    "\n",
    "### Potential concerns:\n",
    "\n",
    "Confounding Variables - team performance, car quality, weather conditions, driver experience, etc. are all possible and could be linked to the location of the race. \n",
    "\n",
    "Data Limitations - some nationalities may have very few home races, and some drivers may have very few races overall. \n",
    "\n",
    "Causal Assumptions - drivers from the same country or team influencing each other would confound some of our estimated treatment effect. \n",
    "\n"
   ]
  },
  {
   "cell_type": "markdown",
   "metadata": {},
   "source": [
    "## Merging Prodecures\n",
    "\n",
    "We merged the races_df, locations_df (circuitId and country columns), results_df, and drivers_df (driverId, surname, and nationality columns) datasets together. We also created a dictionary to map location in circuits_df to nationality in driver_df. "
   ]
  },
  {
   "cell_type": "markdown",
   "metadata": {},
   "source": [
    "## Main Columns\n",
    "\n",
    "The main columns we wanted to focus on were raceId, name, country_standardized, surname, nationality, and is_home_race. raceId tells us which race it is, name tells us the name of the circuit, country_standardized tells us which country the race is in, surname tells us the driver's name, nationality tells us the driver's nationality, and is_home_race tells us if the country_standardized matches nationality. "
   ]
  },
  {
   "cell_type": "code",
   "execution_count": 5,
   "metadata": {},
   "outputs": [],
   "source": [
    "# Matching dictionary made by hand to map circuits.csv location to driver.csv to nationality\n",
    "country_to_nationality = {\n",
    "    'Australia': 'Australian',\n",
    "    'United States': 'American',\n",
    "    'USA': 'American',\n",
    "    'UK': 'British',\n",
    "    'United Kingdom': 'British',\n",
    "    'Great Britain': 'British',\n",
    "    'Monaco': 'Monegasque',\n",
    "    'Netherlands': 'Dutch',\n",
    "    'Spain': 'Spanish',\n",
    "    'France': 'French',\n",
    "    'Germany': 'German',\n",
    "    'Italy': 'Italian',\n",
    "    'Japan': 'Japanese',\n",
    "    'Brazil': 'Brazilian',\n",
    "    'Canada': 'Canadian',\n",
    "    'Mexico': 'Mexican',\n",
    "    'Austria': 'Austrian',\n",
    "    'Belgium': 'Belgian',\n",
    "    'Finland': 'Finnish',\n",
    "    'Switzerland': 'Swiss',\n",
    "    'Denmark': 'Danish',\n",
    "    'Russia': 'Russian',\n",
    "    'China': 'Chinese',\n",
    "    'South Korea': 'Korean',\n",
    "    'Malaysia': 'Malaysian',\n",
    "    'Singapore': 'Singaporean',\n",
    "    'Abu Dhabi': 'Emirati',  # For UAE\n",
    "    'UAE': 'Emirati',\n",
    "    'United Arab Emirates': 'Emirati',\n",
    "    'Bahrain': 'Bahraini',\n",
    "    'Saudi Arabia': 'Saudi',\n",
    "    'Qatar': 'Qatari',\n",
    "    'Portugal': 'Portuguese',\n",
    "    'Hungary': 'Hungarian',\n",
    "    'Azerbaijan': 'Azerbaijani',\n",
    "    'Turkey': 'Turkish'\n",
    "}\n",
    "\n",
    "# Standardizes country names \n",
    "def standardize_country(country):\n",
    "    return country_to_nationality.get(country, country)"
   ]
  },
  {
   "cell_type": "code",
   "execution_count": 7,
   "metadata": {},
   "outputs": [
    {
     "name": "stdout",
     "output_type": "stream",
     "text": [
      "\n",
      "Final merged dataset:\n"
     ]
    },
    {
     "data": {
      "application/vnd.microsoft.datawrangler.viewer.v0+json": {
       "columns": [
        {
         "name": "index",
         "rawType": "int64",
         "type": "integer"
        },
        {
         "name": "raceId",
         "rawType": "int64",
         "type": "integer"
        },
        {
         "name": "name",
         "rawType": "object",
         "type": "string"
        },
        {
         "name": "country",
         "rawType": "object",
         "type": "string"
        },
        {
         "name": "country_standardized",
         "rawType": "object",
         "type": "string"
        },
        {
         "name": "surname",
         "rawType": "object",
         "type": "string"
        },
        {
         "name": "nationality",
         "rawType": "object",
         "type": "string"
        },
        {
         "name": "is_home_race",
         "rawType": "int64",
         "type": "integer"
        }
       ],
       "conversionMethod": "pd.DataFrame",
       "ref": "ae64f1cc-80b3-4347-85dc-5995a1ffe5f2",
       "rows": [
        [
         "0",
         "1",
         "Australian Grand Prix",
         "Australia",
         "Australian",
         "Button",
         "British",
         "0"
        ],
        [
         "1",
         "1",
         "Australian Grand Prix",
         "Australia",
         "Australian",
         "Barrichello",
         "Brazilian",
         "0"
        ],
        [
         "2",
         "1",
         "Australian Grand Prix",
         "Australia",
         "Australian",
         "Trulli",
         "Italian",
         "0"
        ],
        [
         "3",
         "1",
         "Australian Grand Prix",
         "Australia",
         "Australian",
         "Glock",
         "German",
         "0"
        ],
        [
         "4",
         "1",
         "Australian Grand Prix",
         "Australia",
         "Australian",
         "Alonso",
         "Spanish",
         "0"
        ]
       ],
       "shape": {
        "columns": 7,
        "rows": 5
       }
      },
      "text/html": [
       "<div>\n",
       "<style scoped>\n",
       "    .dataframe tbody tr th:only-of-type {\n",
       "        vertical-align: middle;\n",
       "    }\n",
       "\n",
       "    .dataframe tbody tr th {\n",
       "        vertical-align: top;\n",
       "    }\n",
       "\n",
       "    .dataframe thead th {\n",
       "        text-align: right;\n",
       "    }\n",
       "</style>\n",
       "<table border=\"1\" class=\"dataframe\">\n",
       "  <thead>\n",
       "    <tr style=\"text-align: right;\">\n",
       "      <th></th>\n",
       "      <th>raceId</th>\n",
       "      <th>name</th>\n",
       "      <th>country</th>\n",
       "      <th>country_standardized</th>\n",
       "      <th>surname</th>\n",
       "      <th>nationality</th>\n",
       "      <th>is_home_race</th>\n",
       "    </tr>\n",
       "  </thead>\n",
       "  <tbody>\n",
       "    <tr>\n",
       "      <th>0</th>\n",
       "      <td>1</td>\n",
       "      <td>Australian Grand Prix</td>\n",
       "      <td>Australia</td>\n",
       "      <td>Australian</td>\n",
       "      <td>Button</td>\n",
       "      <td>British</td>\n",
       "      <td>0</td>\n",
       "    </tr>\n",
       "    <tr>\n",
       "      <th>1</th>\n",
       "      <td>1</td>\n",
       "      <td>Australian Grand Prix</td>\n",
       "      <td>Australia</td>\n",
       "      <td>Australian</td>\n",
       "      <td>Barrichello</td>\n",
       "      <td>Brazilian</td>\n",
       "      <td>0</td>\n",
       "    </tr>\n",
       "    <tr>\n",
       "      <th>2</th>\n",
       "      <td>1</td>\n",
       "      <td>Australian Grand Prix</td>\n",
       "      <td>Australia</td>\n",
       "      <td>Australian</td>\n",
       "      <td>Trulli</td>\n",
       "      <td>Italian</td>\n",
       "      <td>0</td>\n",
       "    </tr>\n",
       "    <tr>\n",
       "      <th>3</th>\n",
       "      <td>1</td>\n",
       "      <td>Australian Grand Prix</td>\n",
       "      <td>Australia</td>\n",
       "      <td>Australian</td>\n",
       "      <td>Glock</td>\n",
       "      <td>German</td>\n",
       "      <td>0</td>\n",
       "    </tr>\n",
       "    <tr>\n",
       "      <th>4</th>\n",
       "      <td>1</td>\n",
       "      <td>Australian Grand Prix</td>\n",
       "      <td>Australia</td>\n",
       "      <td>Australian</td>\n",
       "      <td>Alonso</td>\n",
       "      <td>Spanish</td>\n",
       "      <td>0</td>\n",
       "    </tr>\n",
       "  </tbody>\n",
       "</table>\n",
       "</div>"
      ],
      "text/plain": [
       "   raceId                   name    country country_standardized      surname  \\\n",
       "0       1  Australian Grand Prix  Australia           Australian       Button   \n",
       "1       1  Australian Grand Prix  Australia           Australian  Barrichello   \n",
       "2       1  Australian Grand Prix  Australia           Australian       Trulli   \n",
       "3       1  Australian Grand Prix  Australia           Australian        Glock   \n",
       "4       1  Australian Grand Prix  Australia           Australian       Alonso   \n",
       "\n",
       "  nationality  is_home_race  \n",
       "0     British             0  \n",
       "1   Brazilian             0  \n",
       "2     Italian             0  \n",
       "3      German             0  \n",
       "4     Spanish             0  "
      ]
     },
     "metadata": {},
     "output_type": "display_data"
    },
    {
     "name": "stdout",
     "output_type": "stream",
     "text": [
      "\n",
      "Nationalities with home races:\n"
     ]
    },
    {
     "data": {
      "text/plain": [
       "nationality\n",
       "American     521\n",
       "British      482\n",
       "Italian      466\n",
       "French       219\n",
       "German       208\n",
       "Brazilian    119\n",
       "Belgian       66\n",
       "Spanish       61\n",
       "Japanese      54\n",
       "Canadian      32\n",
       "Name: count, dtype: int64"
      ]
     },
     "metadata": {},
     "output_type": "display_data"
    },
    {
     "name": "stdout",
     "output_type": "stream",
     "text": [
      "\n",
      "First 5 home races (is_home_race = 1):\n"
     ]
    },
    {
     "data": {
      "application/vnd.microsoft.datawrangler.viewer.v0+json": {
       "columns": [
        {
         "name": "index",
         "rawType": "int64",
         "type": "integer"
        },
        {
         "name": "name",
         "rawType": "object",
         "type": "string"
        },
        {
         "name": "country",
         "rawType": "object",
         "type": "string"
        },
        {
         "name": "country_standardized",
         "rawType": "object",
         "type": "string"
        },
        {
         "name": "surname",
         "rawType": "object",
         "type": "string"
        },
        {
         "name": "nationality",
         "rawType": "object",
         "type": "string"
        },
        {
         "name": "is_home_race",
         "rawType": "int64",
         "type": "integer"
        }
       ],
       "conversionMethod": "pd.DataFrame",
       "ref": "53d4fa02-544b-4a40-8e65-f6e3d8815b65",
       "rows": [
        [
         "11",
         "Australian Grand Prix",
         "Australia",
         "Australian",
         "Webber",
         "Australian",
         "1"
        ],
        [
         "84",
         "Spanish Grand Prix",
         "Spain",
         "Spanish",
         "Alonso",
         "Spanish",
         "1"
        ],
        [
         "145",
         "British Grand Prix",
         "UK",
         "British",
         "Button",
         "British",
         "1"
        ],
        [
         "155",
         "British Grand Prix",
         "UK",
         "British",
         "Hamilton",
         "British",
         "1"
        ],
        [
         "161",
         "German Grand Prix",
         "Germany",
         "German",
         "Vettel",
         "German",
         "1"
        ]
       ],
       "shape": {
        "columns": 6,
        "rows": 5
       }
      },
      "text/html": [
       "<div>\n",
       "<style scoped>\n",
       "    .dataframe tbody tr th:only-of-type {\n",
       "        vertical-align: middle;\n",
       "    }\n",
       "\n",
       "    .dataframe tbody tr th {\n",
       "        vertical-align: top;\n",
       "    }\n",
       "\n",
       "    .dataframe thead th {\n",
       "        text-align: right;\n",
       "    }\n",
       "</style>\n",
       "<table border=\"1\" class=\"dataframe\">\n",
       "  <thead>\n",
       "    <tr style=\"text-align: right;\">\n",
       "      <th></th>\n",
       "      <th>name</th>\n",
       "      <th>country</th>\n",
       "      <th>country_standardized</th>\n",
       "      <th>surname</th>\n",
       "      <th>nationality</th>\n",
       "      <th>is_home_race</th>\n",
       "    </tr>\n",
       "  </thead>\n",
       "  <tbody>\n",
       "    <tr>\n",
       "      <th>11</th>\n",
       "      <td>Australian Grand Prix</td>\n",
       "      <td>Australia</td>\n",
       "      <td>Australian</td>\n",
       "      <td>Webber</td>\n",
       "      <td>Australian</td>\n",
       "      <td>1</td>\n",
       "    </tr>\n",
       "    <tr>\n",
       "      <th>84</th>\n",
       "      <td>Spanish Grand Prix</td>\n",
       "      <td>Spain</td>\n",
       "      <td>Spanish</td>\n",
       "      <td>Alonso</td>\n",
       "      <td>Spanish</td>\n",
       "      <td>1</td>\n",
       "    </tr>\n",
       "    <tr>\n",
       "      <th>145</th>\n",
       "      <td>British Grand Prix</td>\n",
       "      <td>UK</td>\n",
       "      <td>British</td>\n",
       "      <td>Button</td>\n",
       "      <td>British</td>\n",
       "      <td>1</td>\n",
       "    </tr>\n",
       "    <tr>\n",
       "      <th>155</th>\n",
       "      <td>British Grand Prix</td>\n",
       "      <td>UK</td>\n",
       "      <td>British</td>\n",
       "      <td>Hamilton</td>\n",
       "      <td>British</td>\n",
       "      <td>1</td>\n",
       "    </tr>\n",
       "    <tr>\n",
       "      <th>161</th>\n",
       "      <td>German Grand Prix</td>\n",
       "      <td>Germany</td>\n",
       "      <td>German</td>\n",
       "      <td>Vettel</td>\n",
       "      <td>German</td>\n",
       "      <td>1</td>\n",
       "    </tr>\n",
       "  </tbody>\n",
       "</table>\n",
       "</div>"
      ],
      "text/plain": [
       "                      name    country country_standardized   surname  \\\n",
       "11   Australian Grand Prix  Australia           Australian    Webber   \n",
       "84      Spanish Grand Prix      Spain              Spanish    Alonso   \n",
       "145     British Grand Prix         UK              British    Button   \n",
       "155     British Grand Prix         UK              British  Hamilton   \n",
       "161      German Grand Prix    Germany               German    Vettel   \n",
       "\n",
       "    nationality  is_home_race  \n",
       "11   Australian             1  \n",
       "84      Spanish             1  \n",
       "145     British             1  \n",
       "155     British             1  \n",
       "161      German             1  "
      ]
     },
     "metadata": {},
     "output_type": "display_data"
    }
   ],
   "source": [
    "# Actual Merging\n",
    "\n",
    "# Merging races_df with circuits_df with country to get race locations\n",
    "races_with_locations = pd.merge(\n",
    "    races_df,\n",
    "    circuits_df[['circuitId', 'country']],\n",
    "    on='circuitId',\n",
    "    how='left'\n",
    ")\n",
    "\n",
    "# Run function to standardize country names\n",
    "races_with_locations['country_standardized'] = races_with_locations['country'].apply(standardize_country)\n",
    "\n",
    "# Then merge with results to get driver performances\n",
    "races_with_results = pd.merge(\n",
    "    races_with_locations,\n",
    "    results_df,\n",
    "    on='raceId',\n",
    "    how='left'\n",
    ")\n",
    "\n",
    "# Finally merge with drivers to get driver nationalities\n",
    "final_dataset = pd.merge(\n",
    "    races_with_results,\n",
    "    drivers_df[['driverId', 'surname', 'nationality']],\n",
    "    on='driverId',\n",
    "    how='left'\n",
    ")\n",
    "\n",
    "# Create the treatment variable using standardized country names\n",
    "final_dataset['is_home_race'] = (final_dataset['nationality'] == final_dataset['country_standardized']).astype(int)\n",
    "\n",
    "print(\"\\nFinal merged dataset:\")\n",
    "display(final_dataset[['raceId', 'name', 'country', 'country_standardized', 'surname', 'nationality', 'is_home_race']].head())\n",
    "\n",
    "print(\"\\nNationalities with home races:\")\n",
    "display(final_dataset[final_dataset['is_home_race'] == 1]['nationality'].value_counts().head(10))\n",
    "\n",
    "# Display the first 5 home races\n",
    "print(\"\\nFirst 5 home races (is_home_race = 1):\")\n",
    "home_races = final_dataset[final_dataset['is_home_race'] == 1]\n",
    "display(home_races[['name', 'country', 'country_standardized', 'surname', 'nationality', 'is_home_race']].head())"
   ]
  },
  {
   "cell_type": "markdown",
   "metadata": {},
   "source": [
    "## Cleaning Procedures\n",
    "\n",
    "We cleaned the points column by converting all values to numeric, errors to NaN, and missing values to 0. This ensured the data was properly formatted for calculating average points in home and away races.\n"
   ]
  },
  {
   "cell_type": "code",
   "execution_count": 8,
   "metadata": {},
   "outputs": [
    {
     "name": "stdout",
     "output_type": "stream",
     "text": [
      "Overall ATE: -0.736 points\n",
      "Mean points in home races: 1.207\n",
      "Mean points in away races: 1.943\n"
     ]
    }
   ],
   "source": [
    "# Clean points column\n",
    "final_dataset['points'] = pd.to_numeric(final_dataset['points'], errors='coerce').fillna(0)\n",
    "\n",
    "# Calculate overall ATE\n",
    "# This is the difference in mean points between home and away races\n",
    "home_race_mean = final_dataset[final_dataset['is_home_race'] == 1]['points'].mean()\n",
    "away_race_mean = final_dataset[final_dataset['is_home_race'] == 0]['points'].mean()\n",
    "overall_ate = home_race_mean - away_race_mean\n",
    "\n",
    "print(f\"Overall ATE: {overall_ate:.3f} points\")\n",
    "print(f\"Mean points in home races: {home_race_mean:.3f}\")\n",
    "print(f\"Mean points in away races: {away_race_mean:.3f}\")\n"
   ]
  },
  {
   "cell_type": "markdown",
   "metadata": {},
   "source": [
    "## Results\n",
    "\n",
    "We were surprised with the results; they indicate that there is no consistent home race advantage in F1. In fact, the opposite trend is observed. On average, drivers score about .75 points lower in home races than away races. This evidence was furthered when we conditioned on nationality. The majority of nationalities show a negligible or negative effect, meaning that drivers tend to perform the same or worse at home. Only a few nationalities show a slight positive effect (Russia, Japan, and Spain). "
   ]
  },
  {
   "cell_type": "code",
   "execution_count": 9,
   "metadata": {},
   "outputs": [
    {
     "name": "stdout",
     "output_type": "stream",
     "text": [
      "\n",
      "Conditional Average Treatment Effects by Nationality:\n"
     ]
    },
    {
     "data": {
      "application/vnd.microsoft.datawrangler.viewer.v0+json": {
       "columns": [
        {
         "name": "index",
         "rawType": "int64",
         "type": "integer"
        },
        {
         "name": "nationality",
         "rawType": "object",
         "type": "string"
        },
        {
         "name": "cate",
         "rawType": "float64",
         "type": "float"
        },
        {
         "name": "home_mean",
         "rawType": "float64",
         "type": "float"
        },
        {
         "name": "away_mean",
         "rawType": "float64",
         "type": "float"
        },
        {
         "name": "n_home_races",
         "rawType": "int64",
         "type": "integer"
        },
        {
         "name": "n_away_races",
         "rawType": "int64",
         "type": "integer"
        }
       ],
       "conversionMethod": "pd.DataFrame",
       "ref": "61f83a2f-3c8e-4f0c-a6ae-aee87394f40d",
       "rows": [
        [
         "19",
         "Russian",
         "0.5158536585365854",
         "1.75",
         "1.2341463414634146",
         "8",
         "205"
        ],
        [
         "5",
         "Japanese",
         "0.31341237967743996",
         "0.6851851851851852",
         "0.3717728055077453",
         "54",
         "581"
        ],
        [
         "1",
         "Spanish",
         "0.3065315266797355",
         "3.819672131147541",
         "3.5131406044678055",
         "61",
         "761"
        ],
        [
         "11",
         "Malaysian",
         "0.0",
         "0.0",
         "0.0",
         "1",
         "15"
        ],
        [
         "6",
         "Brazilian",
         "-0.0050997498235936245",
         "1.7478991596638656",
         "1.7529989094874592",
         "119",
         "1834"
        ],
        [
         "10",
         "Hungarian",
         "-0.05555555555555555",
         "0.0",
         "0.05555555555555555",
         "2",
         "18"
        ],
        [
         "4",
         "Italian",
         "-0.06920786954650648",
         "0.5375536480686696",
         "0.606761517615176",
         "466",
         "2952"
        ],
        [
         "18",
         "Swiss",
         "-0.0885491320273929",
         "0.6153846153846154",
         "0.7039337474120083",
         "13",
         "483"
        ],
        [
         "13",
         "Portuguese",
         "-0.09876543209876543",
         "0.0",
         "0.09876543209876543",
         "6",
         "81"
        ],
        [
         "7",
         "French",
         "-0.11075194084421591",
         "1.0502283105022832",
         "1.160980251346499",
         "219",
         "2785"
        ],
        [
         "8",
         "American",
         "-0.20900541378210158",
         "0.6564299424184261",
         "0.8654353562005277",
         "521",
         "758"
        ],
        [
         "9",
         "Canadian",
         "-0.22142857142857153",
         "1.0",
         "1.2214285714285715",
         "32",
         "420"
        ],
        [
         "15",
         "Belgian",
         "-0.24441558441558436",
         "0.4393939393939394",
         "0.6838095238095238",
         "66",
         "525"
        ],
        [
         "0",
         "Australian",
         "-0.2528894472361807",
         "3.2",
         "3.452889447236181",
         "25",
         "796"
        ],
        [
         "17",
         "Mexican",
         "-0.6609090909090907",
         "2.409090909090909",
         "3.07",
         "22",
         "400"
        ],
        [
         "12",
         "Austrian",
         "-0.8106368397865779",
         "0.6612903225806451",
         "1.471927162367223",
         "31",
         "659"
        ],
        [
         "2",
         "British",
         "-0.8201203488175959",
         "1.6610788381742738",
         "2.4811991869918697",
         "482",
         "3936"
        ],
        [
         "3",
         "German",
         "-1.239483173076923",
         "2.201923076923077",
         "3.44140625",
         "208",
         "2176"
        ],
        [
         "16",
         "Dutch",
         "-2.3626441010546975",
         "1.962962962962963",
         "4.32560706401766",
         "27",
         "453"
        ],
        [
         "14",
         "Monegasque",
         "-5.479338842975206",
         "1.4545454545454546",
         "6.933884297520661",
         "11",
         "121"
        ]
       ],
       "shape": {
        "columns": 6,
        "rows": 20
       }
      },
      "text/html": [
       "<div>\n",
       "<style scoped>\n",
       "    .dataframe tbody tr th:only-of-type {\n",
       "        vertical-align: middle;\n",
       "    }\n",
       "\n",
       "    .dataframe tbody tr th {\n",
       "        vertical-align: top;\n",
       "    }\n",
       "\n",
       "    .dataframe thead th {\n",
       "        text-align: right;\n",
       "    }\n",
       "</style>\n",
       "<table border=\"1\" class=\"dataframe\">\n",
       "  <thead>\n",
       "    <tr style=\"text-align: right;\">\n",
       "      <th></th>\n",
       "      <th>nationality</th>\n",
       "      <th>cate</th>\n",
       "      <th>home_mean</th>\n",
       "      <th>away_mean</th>\n",
       "      <th>n_home_races</th>\n",
       "      <th>n_away_races</th>\n",
       "    </tr>\n",
       "  </thead>\n",
       "  <tbody>\n",
       "    <tr>\n",
       "      <th>19</th>\n",
       "      <td>Russian</td>\n",
       "      <td>0.515854</td>\n",
       "      <td>1.750000</td>\n",
       "      <td>1.234146</td>\n",
       "      <td>8</td>\n",
       "      <td>205</td>\n",
       "    </tr>\n",
       "    <tr>\n",
       "      <th>5</th>\n",
       "      <td>Japanese</td>\n",
       "      <td>0.313412</td>\n",
       "      <td>0.685185</td>\n",
       "      <td>0.371773</td>\n",
       "      <td>54</td>\n",
       "      <td>581</td>\n",
       "    </tr>\n",
       "    <tr>\n",
       "      <th>1</th>\n",
       "      <td>Spanish</td>\n",
       "      <td>0.306532</td>\n",
       "      <td>3.819672</td>\n",
       "      <td>3.513141</td>\n",
       "      <td>61</td>\n",
       "      <td>761</td>\n",
       "    </tr>\n",
       "    <tr>\n",
       "      <th>11</th>\n",
       "      <td>Malaysian</td>\n",
       "      <td>0.000000</td>\n",
       "      <td>0.000000</td>\n",
       "      <td>0.000000</td>\n",
       "      <td>1</td>\n",
       "      <td>15</td>\n",
       "    </tr>\n",
       "    <tr>\n",
       "      <th>6</th>\n",
       "      <td>Brazilian</td>\n",
       "      <td>-0.005100</td>\n",
       "      <td>1.747899</td>\n",
       "      <td>1.752999</td>\n",
       "      <td>119</td>\n",
       "      <td>1834</td>\n",
       "    </tr>\n",
       "    <tr>\n",
       "      <th>10</th>\n",
       "      <td>Hungarian</td>\n",
       "      <td>-0.055556</td>\n",
       "      <td>0.000000</td>\n",
       "      <td>0.055556</td>\n",
       "      <td>2</td>\n",
       "      <td>18</td>\n",
       "    </tr>\n",
       "    <tr>\n",
       "      <th>4</th>\n",
       "      <td>Italian</td>\n",
       "      <td>-0.069208</td>\n",
       "      <td>0.537554</td>\n",
       "      <td>0.606762</td>\n",
       "      <td>466</td>\n",
       "      <td>2952</td>\n",
       "    </tr>\n",
       "    <tr>\n",
       "      <th>18</th>\n",
       "      <td>Swiss</td>\n",
       "      <td>-0.088549</td>\n",
       "      <td>0.615385</td>\n",
       "      <td>0.703934</td>\n",
       "      <td>13</td>\n",
       "      <td>483</td>\n",
       "    </tr>\n",
       "    <tr>\n",
       "      <th>13</th>\n",
       "      <td>Portuguese</td>\n",
       "      <td>-0.098765</td>\n",
       "      <td>0.000000</td>\n",
       "      <td>0.098765</td>\n",
       "      <td>6</td>\n",
       "      <td>81</td>\n",
       "    </tr>\n",
       "    <tr>\n",
       "      <th>7</th>\n",
       "      <td>French</td>\n",
       "      <td>-0.110752</td>\n",
       "      <td>1.050228</td>\n",
       "      <td>1.160980</td>\n",
       "      <td>219</td>\n",
       "      <td>2785</td>\n",
       "    </tr>\n",
       "    <tr>\n",
       "      <th>8</th>\n",
       "      <td>American</td>\n",
       "      <td>-0.209005</td>\n",
       "      <td>0.656430</td>\n",
       "      <td>0.865435</td>\n",
       "      <td>521</td>\n",
       "      <td>758</td>\n",
       "    </tr>\n",
       "    <tr>\n",
       "      <th>9</th>\n",
       "      <td>Canadian</td>\n",
       "      <td>-0.221429</td>\n",
       "      <td>1.000000</td>\n",
       "      <td>1.221429</td>\n",
       "      <td>32</td>\n",
       "      <td>420</td>\n",
       "    </tr>\n",
       "    <tr>\n",
       "      <th>15</th>\n",
       "      <td>Belgian</td>\n",
       "      <td>-0.244416</td>\n",
       "      <td>0.439394</td>\n",
       "      <td>0.683810</td>\n",
       "      <td>66</td>\n",
       "      <td>525</td>\n",
       "    </tr>\n",
       "    <tr>\n",
       "      <th>0</th>\n",
       "      <td>Australian</td>\n",
       "      <td>-0.252889</td>\n",
       "      <td>3.200000</td>\n",
       "      <td>3.452889</td>\n",
       "      <td>25</td>\n",
       "      <td>796</td>\n",
       "    </tr>\n",
       "    <tr>\n",
       "      <th>17</th>\n",
       "      <td>Mexican</td>\n",
       "      <td>-0.660909</td>\n",
       "      <td>2.409091</td>\n",
       "      <td>3.070000</td>\n",
       "      <td>22</td>\n",
       "      <td>400</td>\n",
       "    </tr>\n",
       "    <tr>\n",
       "      <th>12</th>\n",
       "      <td>Austrian</td>\n",
       "      <td>-0.810637</td>\n",
       "      <td>0.661290</td>\n",
       "      <td>1.471927</td>\n",
       "      <td>31</td>\n",
       "      <td>659</td>\n",
       "    </tr>\n",
       "    <tr>\n",
       "      <th>2</th>\n",
       "      <td>British</td>\n",
       "      <td>-0.820120</td>\n",
       "      <td>1.661079</td>\n",
       "      <td>2.481199</td>\n",
       "      <td>482</td>\n",
       "      <td>3936</td>\n",
       "    </tr>\n",
       "    <tr>\n",
       "      <th>3</th>\n",
       "      <td>German</td>\n",
       "      <td>-1.239483</td>\n",
       "      <td>2.201923</td>\n",
       "      <td>3.441406</td>\n",
       "      <td>208</td>\n",
       "      <td>2176</td>\n",
       "    </tr>\n",
       "    <tr>\n",
       "      <th>16</th>\n",
       "      <td>Dutch</td>\n",
       "      <td>-2.362644</td>\n",
       "      <td>1.962963</td>\n",
       "      <td>4.325607</td>\n",
       "      <td>27</td>\n",
       "      <td>453</td>\n",
       "    </tr>\n",
       "    <tr>\n",
       "      <th>14</th>\n",
       "      <td>Monegasque</td>\n",
       "      <td>-5.479339</td>\n",
       "      <td>1.454545</td>\n",
       "      <td>6.933884</td>\n",
       "      <td>11</td>\n",
       "      <td>121</td>\n",
       "    </tr>\n",
       "  </tbody>\n",
       "</table>\n",
       "</div>"
      ],
      "text/plain": [
       "   nationality      cate  home_mean  away_mean  n_home_races  n_away_races\n",
       "19     Russian  0.515854   1.750000   1.234146             8           205\n",
       "5     Japanese  0.313412   0.685185   0.371773            54           581\n",
       "1      Spanish  0.306532   3.819672   3.513141            61           761\n",
       "11   Malaysian  0.000000   0.000000   0.000000             1            15\n",
       "6    Brazilian -0.005100   1.747899   1.752999           119          1834\n",
       "10   Hungarian -0.055556   0.000000   0.055556             2            18\n",
       "4      Italian -0.069208   0.537554   0.606762           466          2952\n",
       "18       Swiss -0.088549   0.615385   0.703934            13           483\n",
       "13  Portuguese -0.098765   0.000000   0.098765             6            81\n",
       "7       French -0.110752   1.050228   1.160980           219          2785\n",
       "8     American -0.209005   0.656430   0.865435           521           758\n",
       "9     Canadian -0.221429   1.000000   1.221429            32           420\n",
       "15     Belgian -0.244416   0.439394   0.683810            66           525\n",
       "0   Australian -0.252889   3.200000   3.452889            25           796\n",
       "17     Mexican -0.660909   2.409091   3.070000            22           400\n",
       "12    Austrian -0.810637   0.661290   1.471927            31           659\n",
       "2      British -0.820120   1.661079   2.481199           482          3936\n",
       "3       German -1.239483   2.201923   3.441406           208          2176\n",
       "16       Dutch -2.362644   1.962963   4.325607            27           453\n",
       "14  Monegasque -5.479339   1.454545   6.933884            11           121"
      ]
     },
     "metadata": {},
     "output_type": "display_data"
    },
    {
     "data": {
      "image/png": "[encoded data removed]",
      "text/plain": [
       "<Figure size 1200x600 with 1 Axes>"
      ]
     },
     "metadata": {},
     "output_type": "display_data"
    }
   ],
   "source": [
    "# Calculate CATEs by nationality\n",
    "# All nationalities with home races\n",
    "nationalities_with_home_races = final_dataset[final_dataset['is_home_race'] == 1]['nationality'].unique()\n",
    "\n",
    "# Create a DataFrame to store CATE results\n",
    "cate_results = []\n",
    "\n",
    "for nationality in nationalities_with_home_races:\n",
    "    # Filter data for this nationality\n",
    "    nationality_data = final_dataset[final_dataset['nationality'] == nationality]\n",
    "    \n",
    "    # Calculate means for this nationality\n",
    "    home_mean = nationality_data[nationality_data['is_home_race'] == 1]['points'].mean()\n",
    "    away_mean = nationality_data[nationality_data['is_home_race'] == 0]['points'].mean()\n",
    "    cate = home_mean - away_mean\n",
    "    \n",
    "    # Count number of home and away races\n",
    "    n_home = len(nationality_data[nationality_data['is_home_race'] == 1])\n",
    "    n_away = len(nationality_data[nationality_data['is_home_race'] == 0])\n",
    "    \n",
    "    cate_results.append({\n",
    "        'nationality': nationality,\n",
    "        'cate': cate,\n",
    "        'home_mean': home_mean,\n",
    "        'away_mean': away_mean,\n",
    "        'n_home_races': n_home,\n",
    "        'n_away_races': n_away\n",
    "    })\n",
    "\n",
    "# Convert to DataFrame and sort by CATE\n",
    "cate_df = pd.DataFrame(cate_results)\n",
    "cate_df = cate_df.sort_values('cate', ascending=False)\n",
    "\n",
    "# Display results\n",
    "print(\"\\nConditional Average Treatment Effects by Nationality:\")\n",
    "display(cate_df)\n",
    "\n",
    "# Create a visualization of CATEs\n",
    "plt.figure(figsize=(12, 6))\n",
    "plt.bar(cate_df['nationality'], cate_df['cate'])\n",
    "plt.axhline(y=0, color='r', linestyle='-')\n",
    "plt.xticks(rotation=45, ha='right')\n",
    "plt.title('Home Race Advantage by Nationality')\n",
    "plt.ylabel('Average Treatment Effect (Points)')\n",
    "plt.tight_layout()\n",
    "plt.show()"
   ]
  },
  {
   "cell_type": "markdown",
   "metadata": {},
   "source": [
    "## Discussion\n",
    "\n",
    "Suprisingly, by looking at the CATE (conditioning on nationality), we found that drivers tend to perform the same or even worse at home. These findings suggest that racing at home comes with its costs: pressure, expectations from fans, and perhaps other distractions. The results could be influenced by the relatively small number of home races for certain nationalities leading to skewed results (e.g. Monegasque)."
   ]
  }
 ],
 "metadata": {
  "kernelspec": {
   "display_name": "base",
   "language": "python",
   "name": "python3"
  },
  "language_info": {
   "codemirror_mode": {
    "name": "ipython",
    "version": 3
   },
   "file_extension": ".py",
   "mimetype": "text/x-python",
   "name": "python",
   "nbconvert_exporter": "python",
   "pygments_lexer": "ipython3",
   "version": "3.12.7"
  }
 },
 "nbformat": 4,
 "nbformat_minor": 2
}
